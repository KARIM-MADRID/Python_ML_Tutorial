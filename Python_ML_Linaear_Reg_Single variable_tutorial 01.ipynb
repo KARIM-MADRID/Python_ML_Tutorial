{
 "cells": [
  {
   "cell_type": "markdown",
   "id": "78247ccf",
   "metadata": {},
   "source": [
    "# LINEAR REGRASSION A SUPERVISED ML PROCESS #  Y=MX+C  STRAIGHT LINE , SINGLE VARIABLE"
   ]
  },
  {
   "cell_type": "code",
   "execution_count": 1,
   "id": "da900653",
   "metadata": {},
   "outputs": [],
   "source": [
    "import pandas as pd\n",
    "import numpy as np\n",
    "import matplotlib.pyplot as plt\n"
   ]
  },
  {
   "cell_type": "code",
   "execution_count": 2,
   "id": "24588c5a",
   "metadata": {},
   "outputs": [],
   "source": [
    "df=pd.read_csv(r\"C:\\Users\\ibast\\Downloads\\1. Weather Data.csv\")"
   ]
  },
  {
   "cell_type": "code",
   "execution_count": 3,
   "id": "f5033925",
   "metadata": {},
   "outputs": [
    {
     "data": {
      "text/html": [
       "<div>\n",
       "<style scoped>\n",
       "    .dataframe tbody tr th:only-of-type {\n",
       "        vertical-align: middle;\n",
       "    }\n",
       "\n",
       "    .dataframe tbody tr th {\n",
       "        vertical-align: top;\n",
       "    }\n",
       "\n",
       "    .dataframe thead th {\n",
       "        text-align: right;\n",
       "    }\n",
       "</style>\n",
       "<table border=\"1\" class=\"dataframe\">\n",
       "  <thead>\n",
       "    <tr style=\"text-align: right;\">\n",
       "      <th></th>\n",
       "      <th>Date/Time</th>\n",
       "      <th>Temp_C</th>\n",
       "      <th>Dew Point Temp_C</th>\n",
       "      <th>Rel Hum_%</th>\n",
       "      <th>Wind Speed_km/h</th>\n",
       "      <th>Visibility_km</th>\n",
       "      <th>Press_kPa</th>\n",
       "      <th>Weather</th>\n",
       "    </tr>\n",
       "  </thead>\n",
       "  <tbody>\n",
       "    <tr>\n",
       "      <th>0</th>\n",
       "      <td>1/1/2012 0:00</td>\n",
       "      <td>-1.8</td>\n",
       "      <td>-3.9</td>\n",
       "      <td>86</td>\n",
       "      <td>4</td>\n",
       "      <td>8.0</td>\n",
       "      <td>101.24</td>\n",
       "      <td>Fog</td>\n",
       "    </tr>\n",
       "    <tr>\n",
       "      <th>1</th>\n",
       "      <td>1/1/2012 1:00</td>\n",
       "      <td>-1.8</td>\n",
       "      <td>-3.7</td>\n",
       "      <td>87</td>\n",
       "      <td>4</td>\n",
       "      <td>8.0</td>\n",
       "      <td>101.24</td>\n",
       "      <td>Fog</td>\n",
       "    </tr>\n",
       "    <tr>\n",
       "      <th>2</th>\n",
       "      <td>1/1/2012 2:00</td>\n",
       "      <td>-1.8</td>\n",
       "      <td>-3.4</td>\n",
       "      <td>89</td>\n",
       "      <td>7</td>\n",
       "      <td>4.0</td>\n",
       "      <td>101.26</td>\n",
       "      <td>Freezing Drizzle,Fog</td>\n",
       "    </tr>\n",
       "    <tr>\n",
       "      <th>3</th>\n",
       "      <td>1/1/2012 3:00</td>\n",
       "      <td>-1.5</td>\n",
       "      <td>-3.2</td>\n",
       "      <td>88</td>\n",
       "      <td>6</td>\n",
       "      <td>4.0</td>\n",
       "      <td>101.27</td>\n",
       "      <td>Freezing Drizzle,Fog</td>\n",
       "    </tr>\n",
       "    <tr>\n",
       "      <th>4</th>\n",
       "      <td>1/1/2012 4:00</td>\n",
       "      <td>-1.5</td>\n",
       "      <td>-3.3</td>\n",
       "      <td>88</td>\n",
       "      <td>7</td>\n",
       "      <td>4.8</td>\n",
       "      <td>101.23</td>\n",
       "      <td>Fog</td>\n",
       "    </tr>\n",
       "  </tbody>\n",
       "</table>\n",
       "</div>"
      ],
      "text/plain": [
       "       Date/Time  Temp_C  Dew Point Temp_C  Rel Hum_%  Wind Speed_km/h  \\\n",
       "0  1/1/2012 0:00    -1.8              -3.9         86                4   \n",
       "1  1/1/2012 1:00    -1.8              -3.7         87                4   \n",
       "2  1/1/2012 2:00    -1.8              -3.4         89                7   \n",
       "3  1/1/2012 3:00    -1.5              -3.2         88                6   \n",
       "4  1/1/2012 4:00    -1.5              -3.3         88                7   \n",
       "\n",
       "   Visibility_km  Press_kPa               Weather  \n",
       "0            8.0     101.24                   Fog  \n",
       "1            8.0     101.24                   Fog  \n",
       "2            4.0     101.26  Freezing Drizzle,Fog  \n",
       "3            4.0     101.27  Freezing Drizzle,Fog  \n",
       "4            4.8     101.23                   Fog  "
      ]
     },
     "execution_count": 3,
     "metadata": {},
     "output_type": "execute_result"
    }
   ],
   "source": [
    "df.head()"
   ]
  },
  {
   "cell_type": "code",
   "execution_count": 4,
   "id": "36b72f15",
   "metadata": {},
   "outputs": [
    {
     "name": "stdout",
     "output_type": "stream",
     "text": [
      "<class 'pandas.core.frame.DataFrame'>\n",
      "RangeIndex: 8784 entries, 0 to 8783\n",
      "Data columns (total 8 columns):\n",
      " #   Column            Non-Null Count  Dtype  \n",
      "---  ------            --------------  -----  \n",
      " 0   Date/Time         8784 non-null   object \n",
      " 1   Temp_C            8784 non-null   float64\n",
      " 2   Dew Point Temp_C  8784 non-null   float64\n",
      " 3   Rel Hum_%         8784 non-null   int64  \n",
      " 4   Wind Speed_km/h   8784 non-null   int64  \n",
      " 5   Visibility_km     8784 non-null   float64\n",
      " 6   Press_kPa         8784 non-null   float64\n",
      " 7   Weather           8784 non-null   object \n",
      "dtypes: float64(4), int64(2), object(2)\n",
      "memory usage: 549.1+ KB\n"
     ]
    }
   ],
   "source": [
    "df.info()"
   ]
  },
  {
   "cell_type": "code",
   "execution_count": 5,
   "id": "d13642b6",
   "metadata": {},
   "outputs": [],
   "source": [
    "x=df[[\"Temp_C\"]]"
   ]
  },
  {
   "cell_type": "code",
   "execution_count": 6,
   "id": "2c5f55a8",
   "metadata": {},
   "outputs": [],
   "source": [
    "y=df[\"Dew Point Temp_C\"]"
   ]
  },
  {
   "cell_type": "code",
   "execution_count": 7,
   "id": "de7c5e52",
   "metadata": {},
   "outputs": [
    {
     "data": {
      "text/plain": [
       "(      Temp_C\n",
       " 0       -1.8\n",
       " 1       -1.8\n",
       " 2       -1.8\n",
       " 3       -1.5\n",
       " 4       -1.5\n",
       " ...      ...\n",
       " 8779     0.1\n",
       " 8780     0.2\n",
       " 8781    -0.5\n",
       " 8782    -0.2\n",
       " 8783     0.0\n",
       " \n",
       " [8784 rows x 1 columns],\n",
       " 0      -3.9\n",
       " 1      -3.7\n",
       " 2      -3.4\n",
       " 3      -3.2\n",
       " 4      -3.3\n",
       "        ... \n",
       " 8779   -2.7\n",
       " 8780   -2.4\n",
       " 8781   -1.5\n",
       " 8782   -1.8\n",
       " 8783   -2.1\n",
       " Name: Dew Point Temp_C, Length: 8784, dtype: float64)"
      ]
     },
     "execution_count": 7,
     "metadata": {},
     "output_type": "execute_result"
    }
   ],
   "source": [
    "x,y"
   ]
  },
  {
   "cell_type": "markdown",
   "id": "6562480f",
   "metadata": {},
   "source": [
    "# VISUALIZATION"
   ]
  },
  {
   "cell_type": "code",
   "execution_count": 8,
   "id": "021a85b5",
   "metadata": {},
   "outputs": [
    {
     "data": {
      "text/plain": [
       "<matplotlib.collections.PathCollection at 0x296efe8bf40>"
      ]
     },
     "execution_count": 8,
     "metadata": {},
     "output_type": "execute_result"
    },
    {
     "data": {
      "image/png": "[encoded data removed]",
      "text/plain": [
       "<Figure size 432x288 with 1 Axes>"
      ]
     },
     "metadata": {
      "needs_background": "light"
     },
     "output_type": "display_data"
    }
   ],
   "source": [
    "plt.scatter(df[[\"Temp_C\"]],df[\"Dew Point Temp_C\"])\n"
   ]
  },
  {
   "cell_type": "code",
   "execution_count": 9,
   "id": "650abf40",
   "metadata": {},
   "outputs": [
    {
     "data": {
      "text/plain": [
       "Text(0.5, 1.0, 'DATA WEATHER')"
      ]
     },
     "execution_count": 9,
     "metadata": {},
     "output_type": "execute_result"
    },
    {
     "data": {
      "image/png": "[encoded data removed]",
      "text/plain": [
       "<Figure size 432x288 with 1 Axes>"
      ]
     },
     "metadata": {
      "needs_background": "light"
     },
     "output_type": "display_data"
    }
   ],
   "source": [
    "#MORE MODIFY VISUALAZTION \n",
    "plt.scatter(df[[\"Temp_C\"]],df[\"Dew Point Temp_C\"],marker=\"+\",color=\"r\",)\n",
    "plt.xlabel(\"Temp_C\")\n",
    "plt.ylabel(\"Dew Point Temp_C\")\n",
    "plt.title(\"DATA WEATHER\")"
   ]
  },
  {
   "cell_type": "markdown",
   "id": "96a89798",
   "metadata": {},
   "source": [
    "# FOR TRANNING AND TESTING HAVE SEPERATE DATA ,IMPORT SKLEARN"
   ]
  },
  {
   "cell_type": "code",
   "execution_count": 10,
   "id": "53f5037b",
   "metadata": {},
   "outputs": [],
   "source": [
    "from sklearn.model_selection import train_test_split"
   ]
  },
  {
   "cell_type": "code",
   "execution_count": 11,
   "id": "4598ce63",
   "metadata": {},
   "outputs": [],
   "source": [
    "# linaear reg 30% prediction . 30 TEST SIZE =30% , RAMDOM STATE MEANS RANDOM DATA CHOOSE\n",
    "xtrain,xtest,ytrain,ytest=train_test_split(x,y,test_size=.30,random_state=1)"
   ]
  },
  {
   "cell_type": "code",
   "execution_count": 12,
   "id": "ffbe4209",
   "metadata": {},
   "outputs": [
    {
     "data": {
      "text/plain": [
       "(      Temp_C\n",
       " 8123    10.1\n",
       " 197     -8.4\n",
       " 7443    -5.5\n",
       " 1949    12.8\n",
       " 7578     3.3\n",
       " ...      ...\n",
       " 2895    12.5\n",
       " 7813     7.4\n",
       " 905     -5.9\n",
       " 5192    23.1\n",
       " 235     -5.7\n",
       " \n",
       " [6148 rows x 1 columns],\n",
       " 8123     7.7\n",
       " 197    -12.7\n",
       " 7443    -8.9\n",
       " 1949     8.5\n",
       " 7578     1.1\n",
       "         ... \n",
       " 2895    -4.2\n",
       " 7813    -0.6\n",
       " 905    -17.6\n",
       " 5192    15.6\n",
       " 235    -13.8\n",
       " Name: Dew Point Temp_C, Length: 6148, dtype: float64)"
      ]
     },
     "execution_count": 12,
     "metadata": {},
     "output_type": "execute_result"
    }
   ],
   "source": [
    "xtrain,ytrain"
   ]
  },
  {
   "cell_type": "code",
   "execution_count": 13,
   "id": "82fcee27",
   "metadata": {},
   "outputs": [
    {
     "data": {
      "text/plain": [
       "(      Temp_C\n",
       " 6279    18.1\n",
       " 1005   -13.9\n",
       " 8651   -11.3\n",
       " 5408    20.9\n",
       " 7136     5.8\n",
       " ...      ...\n",
       " 4850    15.1\n",
       " 821     -8.1\n",
       " 4706    24.5\n",
       " 3610    21.5\n",
       " 3581    11.0\n",
       " \n",
       " [2636 rows x 1 columns],\n",
       " 6279    17.0\n",
       " 1005   -18.6\n",
       " 8651   -14.5\n",
       " 5408    18.0\n",
       " 7136    -0.7\n",
       "         ... \n",
       " 4850    12.4\n",
       " 821    -13.3\n",
       " 4706    18.9\n",
       " 3610    10.2\n",
       " 3581     8.9\n",
       " Name: Dew Point Temp_C, Length: 2636, dtype: float64)"
      ]
     },
     "execution_count": 13,
     "metadata": {},
     "output_type": "execute_result"
    }
   ],
   "source": [
    "xtest,ytest"
   ]
  },
  {
   "cell_type": "code",
   "execution_count": 14,
   "id": "e6c2054c",
   "metadata": {},
   "outputs": [],
   "source": [
    "from sklearn.linear_model import LinearRegression"
   ]
  },
  {
   "cell_type": "code",
   "execution_count": 15,
   "id": "c87e361d",
   "metadata": {},
   "outputs": [],
   "source": [
    "reg=LinearRegression()"
   ]
  },
  {
   "cell_type": "code",
   "execution_count": 16,
   "id": "398cb6dd",
   "metadata": {},
   "outputs": [
    {
     "data": {
      "text/plain": [
       "LinearRegression()"
      ]
     },
     "execution_count": 16,
     "metadata": {},
     "output_type": "execute_result"
    }
   ],
   "source": [
    "reg.fit(xtrain,ytrain)"
   ]
  },
  {
   "cell_type": "code",
   "execution_count": 17,
   "id": "cb171fe9",
   "metadata": {},
   "outputs": [
    {
     "data": {
      "text/plain": [
       "array([ 10.69287509, -17.25217931, -14.98164364, ...,  16.28188597,\n",
       "        13.66203712,   4.49256615])"
      ]
     },
     "execution_count": 17,
     "metadata": {},
     "output_type": "execute_result"
    }
   ],
   "source": [
    "reg.predict(xtest)"
   ]
  },
  {
   "cell_type": "code",
   "execution_count": 18,
   "id": "4e685edc",
   "metadata": {},
   "outputs": [
    {
     "data": {
      "text/plain": [
       "[<matplotlib.lines.Line2D at 0x296f2aebd30>]"
      ]
     },
     "execution_count": 18,
     "metadata": {},
     "output_type": "execute_result"
    },
    {
     "data": {
      "image/png": "[encoded data removed]",
      "text/plain": [
       "<Figure size 432x288 with 1 Axes>"
      ]
     },
     "metadata": {
      "needs_background": "light"
     },
     "output_type": "display_data"
    }
   ],
   "source": [
    "plt.plot(df[[\"Temp_C\"]],reg.predict(df[[\"Temp_C\"]]))"
   ]
  },
  {
   "cell_type": "code",
   "execution_count": 19,
   "id": "47893692",
   "metadata": {},
   "outputs": [
    {
     "data": {
      "text/plain": [
       "array([-16.46622466])"
      ]
     },
     "execution_count": 19,
     "metadata": {},
     "output_type": "execute_result"
    }
   ],
   "source": [
    "reg.predict([[-13.00]])"
   ]
  },
  {
   "cell_type": "code",
   "execution_count": 20,
   "id": "51c10229",
   "metadata": {},
   "outputs": [
    {
     "data": {
      "text/plain": [
       "[<matplotlib.lines.Line2D at 0x296f2b5eac0>]"
      ]
     },
     "execution_count": 20,
     "metadata": {},
     "output_type": "execute_result"
    },
    {
     "data": {
      "image/png": "[encoded data removed]",
      "text/plain": [
       "<Figure size 432x288 with 1 Axes>"
      ]
     },
     "metadata": {
      "needs_background": "light"
     },
     "output_type": "display_data"
    }
   ],
   "source": [
    "#NOW COMPARE TO BEST FIT PREDICT AND ACTUAL COMPARE\n",
    "plt.scatter(df[[\"Temp_C\"]],df[\"Dew Point Temp_C\"],marker=\"+\",color=\"r\",)\n",
    "plt.xlabel(\"Temp_C\")\n",
    "plt.ylabel(\"Dew Point Temp_C\")\n",
    "plt.title(\"DATA WEATHER\")\n",
    "plt.plot(df[[\"Temp_C\"]],reg.predict(df[[\"Temp_C\"]]))"
   ]
  },
  {
   "cell_type": "code",
   "execution_count": 21,
   "id": "3787edfb",
   "metadata": {},
   "outputs": [
    {
     "data": {
      "text/plain": [
       "array([0.87328295])"
      ]
     },
     "execution_count": 21,
     "metadata": {},
     "output_type": "execute_result"
    }
   ],
   "source": [
    "reg.coef_"
   ]
  },
  {
   "cell_type": "code",
   "execution_count": 22,
   "id": "f98cb20d",
   "metadata": {},
   "outputs": [
    {
     "data": {
      "text/plain": [
       "-5.113546306422983"
      ]
     },
     "execution_count": 22,
     "metadata": {},
     "output_type": "execute_result"
    }
   ],
   "source": [
    "reg.intercept_"
   ]
  },
  {
   "cell_type": "code",
   "execution_count": 23,
   "id": "f8001b59",
   "metadata": {},
   "outputs": [],
   "source": [
    "#NOW Y=MX+C\n",
    "y=0.87328295*(-13.00)+(-5.113546306422983)"
   ]
  },
  {
   "cell_type": "code",
   "execution_count": 24,
   "id": "091c37ff",
   "metadata": {},
   "outputs": [
    {
     "data": {
      "text/plain": [
       "-16.466224656422984"
      ]
     },
     "execution_count": 24,
     "metadata": {},
     "output_type": "execute_result"
    }
   ],
   "source": [
    "y"
   ]
  },
  {
   "cell_type": "code",
   "execution_count": 25,
   "id": "95719e14",
   "metadata": {},
   "outputs": [
    {
     "data": {
      "text/plain": [
       "[<matplotlib.lines.Line2D at 0x296f2bbdc70>]"
      ]
     },
     "execution_count": 25,
     "metadata": {},
     "output_type": "execute_result"
    },
    {
     "data": {
      "image/png": "[encoded data removed]",
      "text/plain": [
       "<Figure size 432x288 with 1 Axes>"
      ]
     },
     "metadata": {
      "needs_background": "light"
     },
     "output_type": "display_data"
    }
   ],
   "source": [
    "plt.plot(y)"
   ]
  },
  {
   "cell_type": "code",
   "execution_count": null,
   "id": "3883411f",
   "metadata": {},
   "outputs": [],
   "source": []
  }
 ],
 "metadata": {
  "kernelspec": {
   "display_name": "Python 3 (ipykernel)",
   "language": "python",
   "name": "python3"
  },
  "language_info": {
   "codemirror_mode": {
    "name": "ipython",
    "version": 3
   },
   "file_extension": ".py",
   "mimetype": "text/x-python",
   "name": "python",
   "nbconvert_exporter": "python",
   "pygments_lexer": "ipython3",
   "version": "3.9.7"
  }
 },
 "nbformat": 4,
 "nbformat_minor": 5
}
